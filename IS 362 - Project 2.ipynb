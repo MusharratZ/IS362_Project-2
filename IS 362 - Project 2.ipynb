{
 "cells": [
  {
   "cell_type": "code",
   "execution_count": 4,
   "id": "ccb73310",
   "metadata": {},
   "outputs": [
    {
     "name": "stdout",
     "output_type": "stream",
     "text": [
      "    Product  Jan  Feb  Mar  Apr  May  Jun  Jul  Aug  Sep  Oct  Nov  Dec\n",
      "0  ProductA  100  120   90   80  110  130  150  170  120  110   90   80\n",
      "1  ProductB   80   90  100  110  120  130  140  150  160  170  180  190\n",
      "2  ProductC  120  110  100   90   80   70   60   50   40   30   20   10\n",
      "Sales Growth month by month is: \n",
      "          Jan        Feb        Mar        Apr        May        Jun  \\\n",
      "Product                                                                \n",
      "ProductA  NaN  20.000000 -25.000000 -11.111111  37.500000  18.181818   \n",
      "ProductB  NaN  12.500000  11.111111  10.000000   9.090909   8.333333   \n",
      "ProductC  NaN  -8.333333  -9.090909 -10.000000 -11.111111 -12.500000   \n",
      "\n",
      "                Jul        Aug        Sep        Oct        Nov        Dec  \n",
      "Product                                                                     \n",
      "ProductA  15.384615  13.333333 -29.411765  -8.333333 -18.181818 -11.111111  \n",
      "ProductB   7.692308   7.142857   6.666667   6.250000   5.882353   5.555556  \n",
      "ProductC -14.285714 -16.666667 -20.000000 -25.000000 -33.333333 -50.000000  \n",
      "\n",
      "\n",
      "Product performance across different seasons is: \n",
      "   Apr  Aug  Dec  Feb  Jan  Jul  Jun  Mar  May  Nov  Oct       Pro  Sep\n",
      "0   80  170   80  120  100  150  130   90  110   90  110  ProductA  120\n",
      "1  110  150  190   90   80  140  130  100  120  180  170  ProductB  160\n",
      "2   90   50   10  110  120   60   70  100   80   20   30  ProductC   40\n"
     ]
    }
   ],
   "source": [
    "import pandas as pd\n",
    "\n",
    "# Reading the csv file into the DataFrame\n",
    "df = pd.read_csv(\"sales.csv\")\n",
    "\n",
    "# Display the df\n",
    "print(df)\n",
    "\n",
    "# Analysis of growth month by month for each product\n",
    "df_growth = df.set_index(\"Product\").pct_change(axis=1) * 100\n",
    "\n",
    "# Compare product performance across different seasons\n",
    "df_seasons = df.groupby(df.columns.str.slice(0,3), axis=1).sum()\n",
    "\n",
    "#Display the results\n",
    "print(\"Sales Growth month by month is: \")\n",
    "print(df_growth)\n",
    "\n",
    "print(\"\\n\")\n",
    "print(\"Product performance across different seasons is: \")\n",
    "print(df_seasons)"
   ]
  },
  {
   "cell_type": "code",
   "execution_count": 7,
   "id": "f524e3e1",
   "metadata": {},
   "outputs": [
    {
     "name": "stdout",
     "output_type": "stream",
     "text": [
      "          City        Date  Temperature_C  Pressure_hPa  Humidity  \\\n",
      "0     New York  2022-01-01              5          1015        70   \n",
      "1     New York  2022-01-02              8          1012        65   \n",
      "2     New York  2022-01-03              3          1020        75   \n",
      "3  Los Angeles  2022-01-01             20          1010        60   \n",
      "4  Los Angeles  2022-01-02             22          1012        55   \n",
      "5  Los Angeles  2022-01-03             18          1005        65   \n",
      "\n",
      "         Weather  \n",
      "0          Clear  \n",
      "1  Partly Cloudy  \n",
      "2           Rain  \n",
      "3          Sunny  \n",
      "4          Clear  \n",
      "5          Foggy  \n",
      "Average Temperature by City: \n",
      "City\n",
      "Los Angeles    20.000000\n",
      "New York        5.333333\n",
      "Name: Temperature_C, dtype: float64\n",
      "\n",
      "\n",
      "Days with the highest humidity are: \n",
      "       City        Date  Temperature_C  Pressure_hPa  Humidity Weather\n",
      "2  New York  2022-01-03              3          1020        75    Rain\n"
     ]
    }
   ],
   "source": [
    "import pandas as pd\n",
    "\n",
    "# Read the CSV file to the DataFrame\n",
    "weather_df = pd.read_csv(\"weather.csv\")\n",
    "\n",
    "# Print the DataFrame\n",
    "print(weather_df)\n",
    "\n",
    "# Average Temperature for each city\n",
    "avg_temp_by_city = weather_df.groupby('City')['Temperature_C'].mean()\n",
    "\n",
    "# Days with high humidity\n",
    "high_humidity_days = weather_df[weather_df['Humidity'] > 70]\n",
    "\n",
    "# Results\n",
    "print('Average Temperature by City: ')\n",
    "print(avg_temp_by_city)\n",
    "\n",
    "print(\"\\n\")\n",
    "print('Days with the highest humidity are: ')\n",
    "print(high_humidity_days)"
   ]
  },
  {
   "cell_type": "code",
   "execution_count": 11,
   "id": "a016fc44",
   "metadata": {},
   "outputs": [
    {
     "name": "stdout",
     "output_type": "stream",
     "text": [
      "      Product     Category        Date  Quantity  Price\n",
      "0      Laptop  Electronics  2022-01-01        10    800\n",
      "1  Smartphone  Electronics  2022-01-02        15    500\n",
      "2     T-shirt      Apparel  2022-01-03        50     20\n",
      "3      Laptop  Electronics  2022-01-04         8    850\n",
      "4  Smartphone  Electronics  2022-01-05        12    550\n",
      "5     T-shirt      Apparel  2022-01-06        40     25\n",
      "The total items sold by product are: \n",
      "Product\n",
      "Laptop        18\n",
      "Smartphone    27\n",
      "T-shirt       90\n",
      "Name: Quantity, dtype: int64\n",
      "\n",
      "\n",
      "Average price by Category: \n",
      "Category\n",
      "Apparel         22.5\n",
      "Electronics    675.0\n",
      "Name: Price, dtype: float64\n"
     ]
    }
   ],
   "source": [
    "import pandas as pd\n",
    "\n",
    "# read from CSV file\n",
    "items_sold = pd.read_csv(\"items_sold.csv\")\n",
    "\n",
    "# print the dataframe\n",
    "print(items_sold)\n",
    "\n",
    "# total sales for each product\n",
    "total_items_sold_by_product = items_sold.groupby('Product')['Quantity'].sum()\n",
    "\n",
    "# Average price by Category\n",
    "avg_price_per_category = items_sold.groupby('Category')['Price'].mean()\n",
    "\n",
    "# Results\n",
    "print('The total items sold by product are: ')\n",
    "print(total_items_sold_by_product)\n",
    "\n",
    "print('\\n')\n",
    "print('Average price by Category: ')\n",
    "print(avg_price_per_category)"
   ]
  },
  {
   "cell_type": "code",
   "execution_count": null,
   "id": "e10d2bb6",
   "metadata": {},
   "outputs": [],
   "source": []
  }
 ],
 "metadata": {
  "kernelspec": {
   "display_name": "Python 3 (ipykernel)",
   "language": "python",
   "name": "python3"
  },
  "language_info": {
   "codemirror_mode": {
    "name": "ipython",
    "version": 3
   },
   "file_extension": ".py",
   "mimetype": "text/x-python",
   "name": "python",
   "nbconvert_exporter": "python",
   "pygments_lexer": "ipython3",
   "version": "3.11.8"
  }
 },
 "nbformat": 4,
 "nbformat_minor": 5
}
